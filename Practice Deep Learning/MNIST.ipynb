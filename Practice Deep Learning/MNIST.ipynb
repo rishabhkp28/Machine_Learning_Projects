<<<<<<< HEAD
{
  "nbformat": 4,
  "nbformat_minor": 0,
  "metadata": {
    "colab": {
      "provenance": []
    },
    "kernelspec": {
      "name": "python3",
      "display_name": "Python 3"
    },
    "language_info": {
      "name": "python"
    }
  },
  "cells": [
    {
      "cell_type": "code",
      "execution_count": 1,
      "metadata": {
        "id": "K0yXbs_eWteX"
      },
      "outputs": [],
      "source": [
        "import tensorflow\n",
        "from tensorflow import keras\n",
        "from tensorflow.keras import Sequential\n",
        "from tensorflow.keras.layers import Dense,Flatten"
      ]
    },
    {
      "cell_type": "code",
      "source": [
        "(X_train,y_train),(X_test,y_test) = keras.datasets.mnist.load_data()"
      ],
      "metadata": {
        "colab": {
          "base_uri": "https://localhost:8080/"
        },
        "id": "5Hb5HC3HW076",
        "outputId": "b30ac59b-0700-4d86-a3cb-2165634ab9c6"
      },
      "execution_count": 2,
      "outputs": [
        {
          "output_type": "stream",
          "name": "stdout",
          "text": [
            "Downloading data from https://storage.googleapis.com/tensorflow/tf-keras-datasets/mnist.npz\n",
            "11490434/11490434 [==============================] - 0s 0us/step\n"
          ]
        }
      ]
    },
    {
      "cell_type": "code",
      "source": [
        "X_test.shape"
      ],
      "metadata": {
        "colab": {
          "base_uri": "https://localhost:8080/"
        },
        "id": "9cShJpcIW3Yi",
        "outputId": "cf3a25ad-421e-47cd-96d0-68b2ee92be24"
      },
      "execution_count": 3,
      "outputs": [
        {
          "output_type": "execute_result",
          "data": {
            "text/plain": [
              "(10000, 28, 28)"
            ]
          },
          "metadata": {},
          "execution_count": 3
        }
      ]
    },
    {
      "cell_type": "code",
      "source": [
        "y_train"
      ],
      "metadata": {
        "colab": {
          "base_uri": "https://localhost:8080/"
        },
        "id": "Vhkb7iCFW5ky",
        "outputId": "c32f1a84-b194-46cb-e0d1-21f81544ba38"
      },
      "execution_count": 4,
      "outputs": [
        {
          "output_type": "execute_result",
          "data": {
            "text/plain": [
              "array([5, 0, 4, ..., 5, 6, 8], dtype=uint8)"
            ]
          },
          "metadata": {},
          "execution_count": 4
        }
      ]
    },
    {
      "cell_type": "code",
      "source": [
        "import matplotlib.pyplot as plt\n",
        "plt.imshow(X_train[2])"
      ],
      "metadata": {
        "colab": {
          "base_uri": "https://localhost:8080/",
          "height": 449
        },
        "id": "9e8nWQP6W8dw",
        "outputId": "090d88c3-7454-4cd0-a560-3d0d35ec6e29"
      },
      "execution_count": 5,
      "outputs": [
        {
          "output_type": "execute_result",
          "data": {
            "text/plain": [
              "<matplotlib.image.AxesImage at 0x7f090976b040>"
            ]
          },
          "metadata": {},
          "execution_count": 5
        },
        {
          "output_type": "display_data",
          "data": {
            "text/plain": [
              "<Figure size 640x480 with 1 Axes>"
            ],
            "image/png": "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\n"
          },
          "metadata": {}
        }
      ]
    },
    {
      "cell_type": "code",
      "source": [
        "X_train = X_train/255\n",
        "X_test = X_test/255  #we did standardization"
      ],
      "metadata": {
        "id": "cdJSEEkUW_Ao"
      },
      "execution_count": 6,
      "outputs": []
    },
    {
      "cell_type": "code",
      "source": [
        "X_train[0]"
      ],
      "metadata": {
        "colab": {
          "base_uri": "https://localhost:8080/"
        },
        "id": "9yrAc02lXA0V",
        "outputId": "fdca3f4f-5efe-4ead-9f06-2ee29580ae3d"
      },
      "execution_count": 7,
      "outputs": [
        {
          "output_type": "execute_result",
          "data": {
            "text/plain": [
              "array([[0.        , 0.        , 0.        , 0.        , 0.        ,\n",
              "        0.        , 0.        , 0.        , 0.        , 0.        ,\n",
              "        0.        , 0.        , 0.        , 0.        , 0.        ,\n",
              "        0.        , 0.        , 0.        , 0.        , 0.        ,\n",
              "        0.        , 0.        , 0.        , 0.        , 0.        ,\n",
              "        0.        , 0.        , 0.        ],\n",
              "       [0.        , 0.        , 0.        , 0.        , 0.        ,\n",
              "        0.        , 0.        , 0.        , 0.        , 0.        ,\n",
              "        0.        , 0.        , 0.        , 0.        , 0.        ,\n",
              "        0.        , 0.        , 0.        , 0.        , 0.        ,\n",
              "        0.        , 0.        , 0.        , 0.        , 0.        ,\n",
              "        0.        , 0.        , 0.        ],\n",
              "       [0.        , 0.        , 0.        , 0.        , 0.        ,\n",
              "        0.        , 0.        , 0.        , 0.        , 0.        ,\n",
              "        0.        , 0.        , 0.        , 0.        , 0.        ,\n",
              "        0.        , 0.        , 0.        , 0.        , 0.        ,\n",
              "        0.        , 0.        , 0.        , 0.        , 0.        ,\n",
              "        0.        , 0.        , 0.        ],\n",
              "       [0.        , 0.        , 0.        , 0.        , 0.        ,\n",
              "        0.        , 0.        , 0.        , 0.        , 0.        ,\n",
              "        0.        , 0.        , 0.        , 0.        , 0.        ,\n",
              "        0.        , 0.        , 0.        , 0.        , 0.        ,\n",
              "        0.        , 0.        , 0.        , 0.        , 0.        ,\n",
              "        0.        , 0.        , 0.        ],\n",
              "       [0.        , 0.        , 0.        , 0.        , 0.        ,\n",
              "        0.        , 0.        , 0.        , 0.        , 0.        ,\n",
              "        0.        , 0.        , 0.        , 0.        , 0.        ,\n",
              "        0.        , 0.        , 0.        , 0.        , 0.        ,\n",
              "        0.        , 0.        , 0.        , 0.        , 0.        ,\n",
              "        0.        , 0.        , 0.        ],\n",
              "       [0.        , 0.        , 0.        , 0.        , 0.        ,\n",
              "        0.        , 0.        , 0.        , 0.        , 0.        ,\n",
              "        0.        , 0.        , 0.01176471, 0.07058824, 0.07058824,\n",
              "        0.07058824, 0.49411765, 0.53333333, 0.68627451, 0.10196078,\n",
              "        0.65098039, 1.        , 0.96862745, 0.49803922, 0.        ,\n",
              "        0.        , 0.        , 0.        ],\n",
              "       [0.        , 0.        , 0.        , 0.        , 0.        ,\n",
              "        0.        , 0.        , 0.        , 0.11764706, 0.14117647,\n",
              "        0.36862745, 0.60392157, 0.66666667, 0.99215686, 0.99215686,\n",
              "        0.99215686, 0.99215686, 0.99215686, 0.88235294, 0.6745098 ,\n",
              "        0.99215686, 0.94901961, 0.76470588, 0.25098039, 0.        ,\n",
              "        0.        , 0.        , 0.        ],\n",
              "       [0.        , 0.        , 0.        , 0.        , 0.        ,\n",
              "        0.        , 0.        , 0.19215686, 0.93333333, 0.99215686,\n",
              "        0.99215686, 0.99215686, 0.99215686, 0.99215686, 0.99215686,\n",
              "        0.99215686, 0.99215686, 0.98431373, 0.36470588, 0.32156863,\n",
              "        0.32156863, 0.21960784, 0.15294118, 0.        , 0.        ,\n",
              "        0.        , 0.        , 0.        ],\n",
              "       [0.        , 0.        , 0.        , 0.        , 0.        ,\n",
              "        0.        , 0.        , 0.07058824, 0.85882353, 0.99215686,\n",
              "        0.99215686, 0.99215686, 0.99215686, 0.99215686, 0.77647059,\n",
              "        0.71372549, 0.96862745, 0.94509804, 0.        , 0.        ,\n",
              "        0.        , 0.        , 0.        , 0.        , 0.        ,\n",
              "        0.        , 0.        , 0.        ],\n",
              "       [0.        , 0.        , 0.        , 0.        , 0.        ,\n",
              "        0.        , 0.        , 0.        , 0.31372549, 0.61176471,\n",
              "        0.41960784, 0.99215686, 0.99215686, 0.80392157, 0.04313725,\n",
              "        0.        , 0.16862745, 0.60392157, 0.        , 0.        ,\n",
              "        0.        , 0.        , 0.        , 0.        , 0.        ,\n",
              "        0.        , 0.        , 0.        ],\n",
              "       [0.        , 0.        , 0.        , 0.        , 0.        ,\n",
              "        0.        , 0.        , 0.        , 0.        , 0.05490196,\n",
              "        0.00392157, 0.60392157, 0.99215686, 0.35294118, 0.        ,\n",
              "        0.        , 0.        , 0.        , 0.        , 0.        ,\n",
              "        0.        , 0.        , 0.        , 0.        , 0.        ,\n",
              "        0.        , 0.        , 0.        ],\n",
              "       [0.        , 0.        , 0.        , 0.        , 0.        ,\n",
              "        0.        , 0.        , 0.        , 0.        , 0.        ,\n",
              "        0.        , 0.54509804, 0.99215686, 0.74509804, 0.00784314,\n",
              "        0.        , 0.        , 0.        , 0.        , 0.        ,\n",
              "        0.        , 0.        , 0.        , 0.        , 0.        ,\n",
              "        0.        , 0.        , 0.        ],\n",
              "       [0.        , 0.        , 0.        , 0.        , 0.        ,\n",
              "        0.        , 0.        , 0.        , 0.        , 0.        ,\n",
              "        0.        , 0.04313725, 0.74509804, 0.99215686, 0.2745098 ,\n",
              "        0.        , 0.        , 0.        , 0.        , 0.        ,\n",
              "        0.        , 0.        , 0.        , 0.        , 0.        ,\n",
              "        0.        , 0.        , 0.        ],\n",
              "       [0.        , 0.        , 0.        , 0.        , 0.        ,\n",
              "        0.        , 0.        , 0.        , 0.        , 0.        ,\n",
              "        0.        , 0.        , 0.1372549 , 0.94509804, 0.88235294,\n",
              "        0.62745098, 0.42352941, 0.00392157, 0.        , 0.        ,\n",
              "        0.        , 0.        , 0.        , 0.        , 0.        ,\n",
              "        0.        , 0.        , 0.        ],\n",
              "       [0.        , 0.        , 0.        , 0.        , 0.        ,\n",
              "        0.        , 0.        , 0.        , 0.        , 0.        ,\n",
              "        0.        , 0.        , 0.        , 0.31764706, 0.94117647,\n",
              "        0.99215686, 0.99215686, 0.46666667, 0.09803922, 0.        ,\n",
              "        0.        , 0.        , 0.        , 0.        , 0.        ,\n",
              "        0.        , 0.        , 0.        ],\n",
              "       [0.        , 0.        , 0.        , 0.        , 0.        ,\n",
              "        0.        , 0.        , 0.        , 0.        , 0.        ,\n",
              "        0.        , 0.        , 0.        , 0.        , 0.17647059,\n",
              "        0.72941176, 0.99215686, 0.99215686, 0.58823529, 0.10588235,\n",
              "        0.        , 0.        , 0.        , 0.        , 0.        ,\n",
              "        0.        , 0.        , 0.        ],\n",
              "       [0.        , 0.        , 0.        , 0.        , 0.        ,\n",
              "        0.        , 0.        , 0.        , 0.        , 0.        ,\n",
              "        0.        , 0.        , 0.        , 0.        , 0.        ,\n",
              "        0.0627451 , 0.36470588, 0.98823529, 0.99215686, 0.73333333,\n",
              "        0.        , 0.        , 0.        , 0.        , 0.        ,\n",
              "        0.        , 0.        , 0.        ],\n",
              "       [0.        , 0.        , 0.        , 0.        , 0.        ,\n",
              "        0.        , 0.        , 0.        , 0.        , 0.        ,\n",
              "        0.        , 0.        , 0.        , 0.        , 0.        ,\n",
              "        0.        , 0.        , 0.97647059, 0.99215686, 0.97647059,\n",
              "        0.25098039, 0.        , 0.        , 0.        , 0.        ,\n",
              "        0.        , 0.        , 0.        ],\n",
              "       [0.        , 0.        , 0.        , 0.        , 0.        ,\n",
              "        0.        , 0.        , 0.        , 0.        , 0.        ,\n",
              "        0.        , 0.        , 0.        , 0.        , 0.18039216,\n",
              "        0.50980392, 0.71764706, 0.99215686, 0.99215686, 0.81176471,\n",
              "        0.00784314, 0.        , 0.        , 0.        , 0.        ,\n",
              "        0.        , 0.        , 0.        ],\n",
              "       [0.        , 0.        , 0.        , 0.        , 0.        ,\n",
              "        0.        , 0.        , 0.        , 0.        , 0.        ,\n",
              "        0.        , 0.        , 0.15294118, 0.58039216, 0.89803922,\n",
              "        0.99215686, 0.99215686, 0.99215686, 0.98039216, 0.71372549,\n",
              "        0.        , 0.        , 0.        , 0.        , 0.        ,\n",
              "        0.        , 0.        , 0.        ],\n",
              "       [0.        , 0.        , 0.        , 0.        , 0.        ,\n",
              "        0.        , 0.        , 0.        , 0.        , 0.        ,\n",
              "        0.09411765, 0.44705882, 0.86666667, 0.99215686, 0.99215686,\n",
              "        0.99215686, 0.99215686, 0.78823529, 0.30588235, 0.        ,\n",
              "        0.        , 0.        , 0.        , 0.        , 0.        ,\n",
              "        0.        , 0.        , 0.        ],\n",
              "       [0.        , 0.        , 0.        , 0.        , 0.        ,\n",
              "        0.        , 0.        , 0.        , 0.09019608, 0.25882353,\n",
              "        0.83529412, 0.99215686, 0.99215686, 0.99215686, 0.99215686,\n",
              "        0.77647059, 0.31764706, 0.00784314, 0.        , 0.        ,\n",
              "        0.        , 0.        , 0.        , 0.        , 0.        ,\n",
              "        0.        , 0.        , 0.        ],\n",
              "       [0.        , 0.        , 0.        , 0.        , 0.        ,\n",
              "        0.        , 0.07058824, 0.67058824, 0.85882353, 0.99215686,\n",
              "        0.99215686, 0.99215686, 0.99215686, 0.76470588, 0.31372549,\n",
              "        0.03529412, 0.        , 0.        , 0.        , 0.        ,\n",
              "        0.        , 0.        , 0.        , 0.        , 0.        ,\n",
              "        0.        , 0.        , 0.        ],\n",
              "       [0.        , 0.        , 0.        , 0.        , 0.21568627,\n",
              "        0.6745098 , 0.88627451, 0.99215686, 0.99215686, 0.99215686,\n",
              "        0.99215686, 0.95686275, 0.52156863, 0.04313725, 0.        ,\n",
              "        0.        , 0.        , 0.        , 0.        , 0.        ,\n",
              "        0.        , 0.        , 0.        , 0.        , 0.        ,\n",
              "        0.        , 0.        , 0.        ],\n",
              "       [0.        , 0.        , 0.        , 0.        , 0.53333333,\n",
              "        0.99215686, 0.99215686, 0.99215686, 0.83137255, 0.52941176,\n",
              "        0.51764706, 0.0627451 , 0.        , 0.        , 0.        ,\n",
              "        0.        , 0.        , 0.        , 0.        , 0.        ,\n",
              "        0.        , 0.        , 0.        , 0.        , 0.        ,\n",
              "        0.        , 0.        , 0.        ],\n",
              "       [0.        , 0.        , 0.        , 0.        , 0.        ,\n",
              "        0.        , 0.        , 0.        , 0.        , 0.        ,\n",
              "        0.        , 0.        , 0.        , 0.        , 0.        ,\n",
              "        0.        , 0.        , 0.        , 0.        , 0.        ,\n",
              "        0.        , 0.        , 0.        , 0.        , 0.        ,\n",
              "        0.        , 0.        , 0.        ],\n",
              "       [0.        , 0.        , 0.        , 0.        , 0.        ,\n",
              "        0.        , 0.        , 0.        , 0.        , 0.        ,\n",
              "        0.        , 0.        , 0.        , 0.        , 0.        ,\n",
              "        0.        , 0.        , 0.        , 0.        , 0.        ,\n",
              "        0.        , 0.        , 0.        , 0.        , 0.        ,\n",
              "        0.        , 0.        , 0.        ],\n",
              "       [0.        , 0.        , 0.        , 0.        , 0.        ,\n",
              "        0.        , 0.        , 0.        , 0.        , 0.        ,\n",
              "        0.        , 0.        , 0.        , 0.        , 0.        ,\n",
              "        0.        , 0.        , 0.        , 0.        , 0.        ,\n",
              "        0.        , 0.        , 0.        , 0.        , 0.        ,\n",
              "        0.        , 0.        , 0.        ]])"
            ]
          },
          "metadata": {},
          "execution_count": 7
        }
      ]
    },
    {
      "cell_type": "code",
      "source": [
        "model = Sequential()\n",
        "\n",
        "model.add(Flatten(input_shape=(28,28)))\n",
        "model.add(Dense(128,activation='relu'))\n",
        "model.add(Dense(32,activation='relu'))\n",
        "model.add(Dense(10,activation='softmax'))"
      ],
      "metadata": {
        "id": "3gfr4YAwXA3v"
      },
      "execution_count": 8,
      "outputs": []
    },
    {
      "cell_type": "code",
      "source": [
        "model.summary()"
      ],
      "metadata": {
        "colab": {
          "base_uri": "https://localhost:8080/"
        },
        "id": "PiRltUV2XFtI",
        "outputId": "d53b35a8-8031-4316-9984-4862b8763cae"
      },
      "execution_count": 9,
      "outputs": [
        {
          "output_type": "stream",
          "name": "stdout",
          "text": [
            "Model: \"sequential\"\n",
            "_________________________________________________________________\n",
            " Layer (type)                Output Shape              Param #   \n",
            "=================================================================\n",
            " flatten (Flatten)           (None, 784)               0         \n",
            "                                                                 \n",
            " dense (Dense)               (None, 128)               100480    \n",
            "                                                                 \n",
            " dense_1 (Dense)             (None, 32)                4128      \n",
            "                                                                 \n",
            " dense_2 (Dense)             (None, 10)                330       \n",
            "                                                                 \n",
            "=================================================================\n",
            "Total params: 104938 (409.91 KB)\n",
            "Trainable params: 104938 (409.91 KB)\n",
            "Non-trainable params: 0 (0.00 Byte)\n",
            "_________________________________________________________________\n"
          ]
        }
      ]
    },
    {
      "cell_type": "code",
      "source": [
        "model.compile(loss='sparse_categorical_crossentropy',optimizer='Adam',metrics=['accuracy'])"
      ],
      "metadata": {
        "id": "icya0tx6XH6Z"
      },
      "execution_count": 10,
      "outputs": []
    },
    {
      "cell_type": "code",
      "source": [
        "history = model.fit(X_train,y_train,epochs=25,validation_split=0.2)# everything is gettting tracked"
      ],
      "metadata": {
        "colab": {
          "base_uri": "https://localhost:8080/"
        },
        "id": "SV8RypUCXKtp",
        "outputId": "7b0eeda3-7fd0-443f-f2f5-1241966fbd9f"
      },
      "execution_count": 11,
      "outputs": [
        {
          "output_type": "stream",
          "name": "stdout",
          "text": [
            "Epoch 1/25\n",
            "1500/1500 [==============================] - 17s 10ms/step - loss: 0.2826 - accuracy: 0.9172 - val_loss: 0.1595 - val_accuracy: 0.9549\n",
            "Epoch 2/25\n",
            "1500/1500 [==============================] - 7s 4ms/step - loss: 0.1254 - accuracy: 0.9623 - val_loss: 0.1174 - val_accuracy: 0.9663\n",
            "Epoch 3/25\n",
            "1500/1500 [==============================] - 11s 7ms/step - loss: 0.0859 - accuracy: 0.9735 - val_loss: 0.1461 - val_accuracy: 0.9567\n",
            "Epoch 4/25\n",
            "1500/1500 [==============================] - 8s 5ms/step - loss: 0.0642 - accuracy: 0.9798 - val_loss: 0.1019 - val_accuracy: 0.9703\n",
            "Epoch 5/25\n",
            "1500/1500 [==============================] - 14s 9ms/step - loss: 0.0511 - accuracy: 0.9844 - val_loss: 0.1009 - val_accuracy: 0.9737\n",
            "Epoch 6/25\n",
            "1500/1500 [==============================] - 13s 9ms/step - loss: 0.0409 - accuracy: 0.9869 - val_loss: 0.1040 - val_accuracy: 0.9726\n",
            "Epoch 7/25\n",
            "1500/1500 [==============================] - 12s 8ms/step - loss: 0.0334 - accuracy: 0.9894 - val_loss: 0.1215 - val_accuracy: 0.9660\n",
            "Epoch 8/25\n",
            "1500/1500 [==============================] - 15s 10ms/step - loss: 0.0283 - accuracy: 0.9910 - val_loss: 0.1087 - val_accuracy: 0.9744\n",
            "Epoch 9/25\n",
            "1500/1500 [==============================] - 7s 5ms/step - loss: 0.0222 - accuracy: 0.9928 - val_loss: 0.1158 - val_accuracy: 0.9738\n",
            "Epoch 10/25\n",
            "1500/1500 [==============================] - 7s 5ms/step - loss: 0.0211 - accuracy: 0.9925 - val_loss: 0.1719 - val_accuracy: 0.9636\n",
            "Epoch 11/25\n",
            "1500/1500 [==============================] - 7s 4ms/step - loss: 0.0179 - accuracy: 0.9941 - val_loss: 0.1227 - val_accuracy: 0.9758\n",
            "Epoch 12/25\n",
            "1500/1500 [==============================] - 7s 5ms/step - loss: 0.0164 - accuracy: 0.9944 - val_loss: 0.1326 - val_accuracy: 0.9747\n",
            "Epoch 13/25\n",
            "1500/1500 [==============================] - 6s 4ms/step - loss: 0.0140 - accuracy: 0.9954 - val_loss: 0.1373 - val_accuracy: 0.9725\n",
            "Epoch 14/25\n",
            "1500/1500 [==============================] - 7s 5ms/step - loss: 0.0135 - accuracy: 0.9955 - val_loss: 0.1500 - val_accuracy: 0.9712\n",
            "Epoch 15/25\n",
            "1500/1500 [==============================] - 6s 4ms/step - loss: 0.0107 - accuracy: 0.9963 - val_loss: 0.1495 - val_accuracy: 0.9721\n",
            "Epoch 16/25\n",
            "1500/1500 [==============================] - 7s 5ms/step - loss: 0.0117 - accuracy: 0.9961 - val_loss: 0.1291 - val_accuracy: 0.9763\n",
            "Epoch 17/25\n",
            "1500/1500 [==============================] - 6s 4ms/step - loss: 0.0107 - accuracy: 0.9963 - val_loss: 0.1357 - val_accuracy: 0.9760\n",
            "Epoch 18/25\n",
            "1500/1500 [==============================] - 9s 6ms/step - loss: 0.0135 - accuracy: 0.9958 - val_loss: 0.1329 - val_accuracy: 0.9749\n",
            "Epoch 19/25\n",
            "1500/1500 [==============================] - 6s 4ms/step - loss: 0.0095 - accuracy: 0.9968 - val_loss: 0.1456 - val_accuracy: 0.9755\n",
            "Epoch 20/25\n",
            "1500/1500 [==============================] - 7s 5ms/step - loss: 0.0098 - accuracy: 0.9967 - val_loss: 0.1543 - val_accuracy: 0.9751\n",
            "Epoch 21/25\n",
            "1500/1500 [==============================] - 6s 4ms/step - loss: 0.0097 - accuracy: 0.9968 - val_loss: 0.1414 - val_accuracy: 0.9764\n",
            "Epoch 22/25\n",
            "1500/1500 [==============================] - 8s 5ms/step - loss: 0.0119 - accuracy: 0.9965 - val_loss: 0.1527 - val_accuracy: 0.9739\n",
            "Epoch 23/25\n",
            "1500/1500 [==============================] - 6s 4ms/step - loss: 0.0074 - accuracy: 0.9976 - val_loss: 0.1544 - val_accuracy: 0.9759\n",
            "Epoch 24/25\n",
            "1500/1500 [==============================] - 8s 5ms/step - loss: 0.0069 - accuracy: 0.9976 - val_loss: 0.1652 - val_accuracy: 0.9766\n",
            "Epoch 25/25\n",
            "1500/1500 [==============================] - 6s 4ms/step - loss: 0.0091 - accuracy: 0.9967 - val_loss: 0.1876 - val_accuracy: 0.9726\n"
          ]
        }
      ]
    },
    {
      "cell_type": "code",
      "source": [
        "y_prob = model.predict(X_test) #contains the probabilities that digit is 0,1,2,3,4,5,6,7,8,9"
      ],
      "metadata": {
        "colab": {
          "base_uri": "https://localhost:8080/"
        },
        "id": "a_0gk9hrXPAW",
        "outputId": "5a8712f7-c80e-4519-9460-e338dbfbf0ef"
      },
      "execution_count": 12,
      "outputs": [
        {
          "output_type": "stream",
          "name": "stdout",
          "text": [
            "313/313 [==============================] - 1s 2ms/step\n"
          ]
        }
      ]
    },
    {
      "cell_type": "code",
      "source": [
        "y_prob"
      ],
      "metadata": {
        "colab": {
          "base_uri": "https://localhost:8080/"
        },
        "id": "FrSkSN1iXRdf",
        "outputId": "4d1b4448-82bb-4ccf-ad48-e4719f35c467"
      },
      "execution_count": 13,
      "outputs": [
        {
          "output_type": "execute_result",
          "data": {
            "text/plain": [
              "array([[1.1322415e-14, 2.8386315e-14, 2.9826909e-13, ..., 9.9999994e-01,\n",
              "        6.8290284e-19, 3.4843545e-16],\n",
              "       [3.8399991e-19, 3.3395158e-11, 9.9999994e-01, ..., 2.0652949e-30,\n",
              "        1.1304041e-12, 5.0682389e-30],\n",
              "       [1.6285927e-12, 9.9999994e-01, 1.1269685e-08, ..., 3.8234287e-09,\n",
              "        2.3775357e-10, 3.4545345e-17],\n",
              "       ...,\n",
              "       [7.9141500e-24, 3.6489107e-17, 2.8951186e-23, ..., 6.3416279e-11,\n",
              "        3.9720284e-21, 1.5076327e-09],\n",
              "       [3.2116875e-17, 2.8999287e-29, 3.1419404e-29, ..., 8.9468372e-21,\n",
              "        9.8817710e-14, 4.4224699e-22],\n",
              "       [4.0799817e-17, 3.8829673e-19, 5.8378631e-25, ..., 3.3863568e-27,\n",
              "        6.1053991e-15, 7.8936167e-24]], dtype=float32)"
            ]
          },
          "metadata": {},
          "execution_count": 13
        }
      ]
    },
    {
      "cell_type": "code",
      "source": [
        "y_pred = y_prob.argmax(axis=1) #  finds the highest probability digit"
      ],
      "metadata": {
        "id": "hEwdlhoNXTYj"
      },
      "execution_count": 16,
      "outputs": []
    },
    {
      "cell_type": "code",
      "source": [
        "from sklearn.metrics import accuracy_score\n",
        "accuracy_score(y_test,y_pred)"
      ],
      "metadata": {
        "colab": {
          "base_uri": "https://localhost:8080/"
        },
        "id": "g3e9JiVzXV6o",
        "outputId": "d20555fc-98f6-4b14-a3f7-3c062918f259"
      },
      "execution_count": 17,
      "outputs": [
        {
          "output_type": "execute_result",
          "data": {
            "text/plain": [
              "0.976"
            ]
          },
          "metadata": {},
          "execution_count": 17
        }
      ]
    },
    {
      "cell_type": "code",
      "source": [
        "plt.plot(history.history['loss'], label=\"loss\")\n",
        "plt.plot(history.history['val_loss'],label =\"val_loss\")\n",
        "plt.legend()\n",
        "plt.show()"
      ],
      "metadata": {
        "colab": {
          "base_uri": "https://localhost:8080/",
          "height": 430
        },
        "id": "6Bb57x8vXYJ4",
        "outputId": "fe4bde48-02f8-4395-87fa-e39dc67e0355"
      },
      "execution_count": 19,
      "outputs": [
        {
          "output_type": "display_data",
          "data": {
            "text/plain": [
              "<Figure size 640x480 with 1 Axes>"
            ],
            "image/png": "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\n"
          },
          "metadata": {}
        }
      ]
    },
    {
      "cell_type": "code",
      "source": [
        "plt.plot(history.history['accuracy'],label=\"accuracy\")\n",
        "plt.plot(history.history['val_accuracy'],label =\"val_accuracy\")\n",
        "plt.legend()\n",
        "plt.show()"
      ],
      "metadata": {
        "colab": {
          "base_uri": "https://localhost:8080/",
          "height": 430
        },
        "id": "m4Z5NxNkXZxc",
        "outputId": "c16f794e-bfc7-4c76-b5ec-0f5a5396d085"
      },
      "execution_count": 18,
      "outputs": [
        {
          "output_type": "display_data",
          "data": {
            "text/plain": [
              "<Figure size 640x480 with 1 Axes>"
            ],
            "image/png": "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\n"
          },
          "metadata": {}
        }
      ]
    },
    {
      "cell_type": "code",
      "source": [
        "plt.imshow(X_test[1])"
      ],
      "metadata": {
        "colab": {
          "base_uri": "https://localhost:8080/",
          "height": 449
        },
        "id": "gMOu72RQXcWZ",
        "outputId": "e67ea762-c81f-4a7e-9f3d-6253596d33c3"
      },
      "execution_count": 20,
      "outputs": [
        {
          "output_type": "execute_result",
          "data": {
            "text/plain": [
              "<matplotlib.image.AxesImage at 0x7f08d843be80>"
            ]
          },
          "metadata": {},
          "execution_count": 20
        },
        {
          "output_type": "display_data",
          "data": {
            "text/plain": [
              "<Figure size 640x480 with 1 Axes>"
            ],
            "image/png": "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\n"
          },
          "metadata": {}
        }
      ]
    },
    {
      "cell_type": "code",
      "source": [
        "model.predict(X_test[1].reshape(1,28,28)).argmax(axis=1) #gets our answer after reshsaping the picture"
      ],
      "metadata": {
        "colab": {
          "base_uri": "https://localhost:8080/"
        },
        "id": "xACTvv8AXeW4",
        "outputId": "0d09ce12-f569-44bc-9882-173be4c13143"
      },
      "execution_count": 21,
      "outputs": [
        {
          "output_type": "stream",
          "name": "stdout",
          "text": [
            "1/1 [==============================] - 0s 30ms/step\n"
          ]
        },
        {
          "output_type": "execute_result",
          "data": {
            "text/plain": [
              "array([2])"
            ]
          },
          "metadata": {},
          "execution_count": 21
        }
      ]
    }
  ]
}
=======
version https://git-lfs.github.com/spec/v1
oid sha256:1878ea6790f66773cf1a10f91e6dac88b2e37060a9392bdffd0de46895730dae
size 120337
>>>>>>> 049707b7b5afadf9c48a3c5aefdb96f95cae6b96
